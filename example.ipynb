{
 "cells": [
  {
   "cell_type": "code",
   "execution_count": 1,
   "metadata": {
    "collapsed": true
   },
   "outputs": [],
   "source": [
    "import pandas as pd\n",
    "from rdframe.client.http_client import HttpClientDataFormat, HttpClient\n",
    "from rdframe.knowledge_graph import KnowledgeGraph\n",
    "from rdframe.dataset.rdfpredicate import RDFPredicate\n",
    "from rdframe.dataset.aggregation_fn_data import AggregationData"
   ]
  },
  {
   "cell_type": "code",
   "execution_count": 2,
   "metadata": {},
   "outputs": [],
   "source": [
    "    endpoint = 'http://10.161.202.101:8890/sparql/'\n",
    "    port = 8890\n",
    "    output_format = HttpClientDataFormat.PANDAS_DF\n",
    "    max_rows = 1000000\n",
    "    timeout = 12000\n",
    "    default_graph_url = 'http://twitter.com'\n",
    "    client = HttpClient(endpoint_url=endpoint,\n",
    "                        port=port,\n",
    "                        return_format=output_format,\n",
    "                        timeout=timeout,\n",
    "                        default_graph_uri=default_graph_url,\n",
    "                        max_rows=max_rows\n",
    "                        )\n",
    "\n",
    "    graph = KnowledgeGraph('twitter',\n",
    "                           'http://twitter.com/',\n",
    "                           prefixes={\n",
    "                               \"rdf\": \"http://www.w3.org/1999/02/22-rdf-syntax-ns#\",\n",
    "                               \"sioc\": \"http://rdfs.org/sioc/ns#\",\n",
    "                               \"sioct\": \"http://rdfs.org/sioc/types#\",\n",
    "                               \"to\": \"http://twitter.com/ontology/\",\n",
    "                               \"dcterms\": \"http://purl.org/dc/terms/\",\n",
    "                               \"xsd\": \"http://www.example.org/\",\n",
    "                               \"foaf\": \"http://xmlns.com/foaf/0.1/\"\n",
    "                           })\n",
    "\n",
    "    dataset = graph.entities(class_name='sioct:microblogPost',\n",
    "                             new_dataset_name='tweets',\n",
    "                             entities_col_name='tweet')\n",
    "    ds = dataset.expand(src_col_name='tweet', predicate_list=[\n",
    "        RDFPredicate('sioc:has_creater', 'tweep')\n",
    "    ]).group_by(['tweep']).count(\n",
    "        aggregation_fn_data=[AggregationData('tweet', 'tweets_count')]).filter(\n",
    "        conditions_dict={'tweets_count': ['>= {}'.format(200), '<= {}'.format(300)]})\n",
    "\n",
    "    ds = ds.expand(src_col_name='tweet', predicate_list=[\n",
    "        RDFPredicate('sioc:content', 'text', optional=False),\n",
    "        RDFPredicate('dcterms:created', 'date', optional=True),\n",
    "        RDFPredicate('to:hasmedia', 'multimedia', optional=True),\n",
    "        RDFPredicate('to:hashashtag', 'hashtag', optional=True),\n",
    "        RDFPredicate('sioc:mentions', 'users_mentioned', optional=True)\n",
    "    ])\n",
    "\n",
    "    ds = ds.select_cols(['tweet', 'tweep', 'text', 'date', 'multimedia', 'hashtag', 'users_mentioned'])\n",
    "    \n",
    "    sparql_query = ds.to_sparql()    "
   ]
  },
  {
   "cell_type": "code",
   "execution_count": 3,
   "metadata": {},
   "outputs": [
    {
     "name": "stdout",
     "output_type": "stream",
     "text": [
      "Sparql Query = \nPREFIX rdf: <http://www.w3.org/1999/02/22-rdf-syntax-ns#>\nPREFIX sioc: <http://rdfs.org/sioc/ns#>\nPREFIX sioct: <http://rdfs.org/sioc/types#>\nPREFIX to: <http://twitter.com/ontology/>\nPREFIX dcterms: <http://purl.org/dc/terms/>\nPREFIX xsd: <http://www.example.org/>\nPREFIX foaf: <http://xmlns.com/foaf/0.1/>\nSELECT ?tweet ?tweep ?text ?date ?multimedia ?hashtag ?users_mentioned \nFROM <http://twitter.com/>\nWHERE \n{ \n\t?tweet sioc:content ?text .\n\t?tweet rdf:type sioct:microblogPost .\n\t?tweet sioc:has_creater ?tweep .\n\n\tOPTIONAL {  \n\t\t?tweet dcterms:created ?date .\n\t\t?tweet to:hasmedia ?multimedia .\n\t\t?tweet to:hashashtag ?hashtag .\n\t\t?tweet sioc:mentions ?users_mentioned .\n\t}\t\t\n\t{\n\t\tSELECT ?tweep \n\t\tWHERE \n\t\t{ \n\t\t\t?tweet rdf:type sioct:microblogPost .\n\t\t\t?tweet sioc:has_creater ?tweep .\n\t\t\n\t\t} GROUP BY ?tweep\n\t\t HAVING(( COUNT( ?tweet) >= 200 )  && ( COUNT( ?tweet) <= 300 ) ) \n\t}\n}\n"
     ]
    }
   ],
   "source": [
    "    print(\"Sparql Query = \\n{}\".format(ds.to_sparql()))\n",
    "\n"
   ]
  },
  {
   "cell_type": "code",
   "execution_count": 4,
   "metadata": {},
   "outputs": [
    {
     "name": "stderr",
     "output_type": "stream",
     "text": [
      "/Users/aisha/Desktop/QCRI/RDFrame/rdframe/dataset/dataset.py:192: DtypeWarning: Columns (3,4,5,6) have mixed types. Specify dtype option on import or set low_memory=False.\n  res = client.execute_query(query_string, return_format=return_format)\n"
     ]
    },
    {
     "name": "stdout",
     "output_type": "stream",
     "text": [
      "                                               tweet  \\\n0  http://twitter.com/5Yk7JzKkUUacrQv/status/1035...   \n1  http://twitter.com/adeladelv/status/1035976828...   \n2  http://twitter.com/alihks2999/status/103582758...   \n3  http://twitter.com/sharida_a/status/1035796244...   \n4  http://twitter.com/amzkh1/status/1036188540940...   \n5  http://twitter.com/gdooh111/status/10327840499...   \n6  http://twitter.com/justnow1991/status/10328100...   \n7  http://twitter.com/justnow1991/status/10330713...   \n8  http://twitter.com/yousef_tw/status/1032994882...   \n9  http://twitter.com/yousef_tw/status/1032995374...   \n\n                                 tweep  \\\n0  http://twitter.com/5Yk7JzKkUUacrQv/   \n1        http://twitter.com/adeladelv/   \n2       http://twitter.com/alihks2999/   \n3        http://twitter.com/sharida_a/   \n4           http://twitter.com/amzkh1/   \n5         http://twitter.com/gdooh111/   \n6      http://twitter.com/justnow1991/   \n7      http://twitter.com/justnow1991/   \n8        http://twitter.com/yousef_tw/   \n9        http://twitter.com/yousef_tw/   \n\n                                                text                  date  \\\n0  RT @AASAAKSA: هكذا كانت نظرات الأسد سلمان  !!\\...  2018-09-01T19:43:07Z   \n1  RT @AASAAKSA: هذي الحقيقة \\n\\n#قطر #الدوحة #تم...  2018-09-01T19:44:58Z   \n2  RT @skynewsarabia: وقف دعم الإرهاب وتغيير سياس...  2018-09-01T09:51:55Z   \n3  RT @Ol1raF: @AJABreaking الصهاينة يعتبرون #قطر...  2018-09-01T07:47:23Z   \n4  RT @naissy_q: الممثل القطري غازي حسين في كربلا...  2018-09-02T09:46:14Z   \n5  RT @zelzal_qtr: #ترمب\\nتوتو وناسه في العنايه \\...  2018-08-24T00:18:00Z   \n6  RT @kuwarimud: نيابة عن شعب #قطر نتمنى الشفاء ...  2018-08-24T02:01:25Z   \n7  RT @aletihadae: صحف إسبانية: قطر تحول \"كتالوني...  2018-08-24T19:19:43Z   \n8  RT @DR_ABDULLAH_Q8: أنا مع الحق #القطري وسوف ا...  2018-08-24T14:15:46Z   \n9  RT @AlArabNewsPaper: #شاهد.. رجال المرور يقدمو...  2018-08-24T14:17:43Z   \n\n                                          multimedia  \\\n0  https://twitter.com/AASAAKSA/status/1035436929...   \n1  https://twitter.com/AASAAKSA/status/1035975228...   \n2  https://twitter.com/skynewsarabia/status/10358...   \n3  https://twitter.com/Ol1raF/status/103574931556...   \n4  https://twitter.com/naissy_q/status/1036164217...   \n5  https://twitter.com/zelzal_qtr/status/10326821...   \n6  https://twitter.com/kuwarimud/status/103273740...   \n7  https://twitter.com/aletihadae/status/10330696...   \n8  https://twitter.com/DR_ABDULLAH_Q8/status/1032...   \n9  https://twitter.com/AlArabNewsPaper/status/103...   \n\n                                            hashtag  \\\n0                   http://twitter.com/hashtag#قطر/   \n1                  http://twitter.com/hashtag#دليم/   \n2             http://twitter.com/hashtag#شاهد_سكاي/   \n3                   http://twitter.com/hashtag#قطر/   \n4                   http://twitter.com/hashtag#قطر/   \n5                  http://twitter.com/hashtag#ترمب/   \n6  http://twitter.com/hashtag#سلامتك_تركي_ال_الشيخ/   \n7           http://twitter.com/hashtag#مصدرك_الأول/   \n8                http://twitter.com/hashtag#الكويت/   \n9              http://twitter.com/hashtag#مرور_قطر/   \n\n                       users_mentioned  \n0         http://twitter.com/AASAAKSA/  \n1         http://twitter.com/AASAAKSA/  \n2    http://twitter.com/skynewsarabia/  \n3      http://twitter.com/AJABreaking/  \n4         http://twitter.com/naissy_q/  \n5       http://twitter.com/zelzal_qtr/  \n6        http://twitter.com/kuwarimud/  \n7       http://twitter.com/aletihadae/  \n8   http://twitter.com/DR_ABDULLAH_Q8/  \n9  http://twitter.com/AlArabNewsPaper/  \n"
     ]
    }
   ],
   "source": [
    "    df = ds.execute(client, return_format=output_format)\n",
    "    print(df.head(10))"
   ]
  },
  {
   "cell_type": "code",
   "execution_count": null,
   "metadata": {},
   "outputs": [],
   "source": []
  }
 ],
 "metadata": {
  "kernelspec": {
   "display_name": "Python 2",
   "language": "python",
   "name": "python2"
  },
  "language_info": {
   "codemirror_mode": {
    "name": "ipython",
    "version": 2
   },
   "file_extension": ".py",
   "mimetype": "text/x-python",
   "name": "python",
   "nbconvert_exporter": "python",
   "pygments_lexer": "ipython2",
   "version": "2.7.6"
  }
 },
 "nbformat": 4,
 "nbformat_minor": 0
}
