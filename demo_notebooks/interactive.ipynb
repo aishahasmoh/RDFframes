{
 "cells": [
  {
   "cell_type": "code",
   "execution_count": 1,
   "metadata": {
    "collapsed": true,
    "deletable": true,
    "editable": true
   },
   "outputs": [],
   "source": [
    "import ipywidgets as widgets\n",
    "from ipywidgets import interact, interact_manual\n",
    "import time\n",
    "\n",
    "from rdfframes.knowledge_graph import KnowledgeGraph\n",
    "from rdfframes.dataset.rdfpredicate import RDFPredicate\n",
    "from rdfframes.utils.constants import JoinType\n",
    "from rdfframes.client.http_client import HttpClientDataFormat, HttpClient"
   ]
  },
  {
   "cell_type": "code",
   "execution_count": 2,
   "metadata": {
    "collapsed": false,
    "deletable": true,
    "editable": true
   },
   "outputs": [
    {
     "ename": "SyntaxError",
     "evalue": "invalid syntax (<ipython-input-2-ab0fab647118>, line 17)",
     "output_type": "error",
     "traceback": [
      "\u001b[0;36m  File \u001b[0;32m\"<ipython-input-2-ab0fab647118>\"\u001b[0;36m, line \u001b[0;32m17\u001b[0m\n\u001b[0;31m    def choose_graph(graph=['dbpedia', 'freebase', 'dblp']:\u001b[0m\n\u001b[0m                                                          ^\u001b[0m\n\u001b[0;31mSyntaxError\u001b[0m\u001b[0;31m:\u001b[0m invalid syntax\n"
     ]
    }
   ],
   "source": [
    "graph_uri = {'dbpedia': 'http://dbpedia.org',\n",
    "             'dblp': 'http://dblp.l3s.de'}\n",
    "graph_prefixes = {'dbpedia': {'dcterms': 'http://purl.org/dc/terms/',\n",
    "                                 'rdfs': 'http://www.w3.org/2000/01/rdf-schema#',\n",
    "                                 'dbpprop': 'http://dbpedia.org/property/',\n",
    "                                 'dbpr': 'http://dbpedia.org/resource/',\n",
    "                                 'dbpo': 'http://dbpedia.org/ontology/'},\n",
    "                 'dblp': {\n",
    "        \"xsd\": \"http://www.w3.org/2001/XMLSchema#\",\n",
    "        \"swrc\": \"http://swrc.ontoware.org/ontology#\",\n",
    "        \"rdf\": \"http://www.w3.org/1999/02/22-rdf-syntax-ns#\",\n",
    "        \"dc\": \"http://purl.org/dc/elements/1.1/\",\n",
    "        \"dcterm\": \"http://purl.org/dc/terms/\",\n",
    "        \"dblprc\": \"http://dblp.l3s.de/d2r/resource/conferences/\"\n",
    "    }}\n",
    "@interact\n",
    "def choose_graph(graph=['dbpedia', 'freebase', 'dblp']):\n",
    "    return KnowledgeGraph(graph_uri=graph_uri[graph],\n",
    "                       prefixes=graph_prefixes[graph])"
   ]
  }
 ],
 "metadata": {
  "kernelspec": {
   "display_name": "rdfframes",
   "language": "python",
   "name": "rdfframes"
  },
  "language_info": {
   "codemirror_mode": {
    "name": "ipython",
    "version": 3
   },
   "file_extension": ".py",
   "mimetype": "text/x-python",
   "name": "python",
   "nbconvert_exporter": "python",
   "pygments_lexer": "ipython3",
   "version": "3.6.8"
  }
 },
 "nbformat": 4,
 "nbformat_minor": 2
}
