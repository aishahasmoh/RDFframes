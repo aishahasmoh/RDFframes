{
 "cells": [
  {
   "cell_type": "code",
   "execution_count": 1,
   "metadata": {
    "collapsed": true
   },
   "outputs": [],
   "source": [
    "from rdfframes.knowledge_graph import KnowledgeGraph\n",
    "from rdfframes.dataset.rdfpredicate import RDFPredicate\n",
    "from rdfframes.utils.constants import JoinType\n",
    "from rdfframes.client.http_client import HttpClientDataFormat, HttpClient"
   ]
  },
  {
   "cell_type": "code",
   "execution_count": 2,
   "metadata": {},
   "outputs": [],
   "source": [
    "graph = KnowledgeGraph(graph_uri='http://dbpedia.org',\n",
    "                       prefixes={'dcterms': 'http://purl.org/dc/terms/',\n",
    "                                 'rdfs': 'http://www.w3.org/2000/01/rdf-schema#',\n",
    "                                 'dbpprop': 'http://dbpedia.org/property/',\n",
    "                                 'dbpr': 'http://dbpedia.org/resource/'})\n",
    "\n",
    "dataset = graph.feature_domain_range('dbpprop:starring', domain_col_name='movie', range_col_name='actor')\\\n",
    "    \n",
    "dataset = dataset.expand('actor', [('dbpprop:birthPlace', 'actor_country'), ('rdfs:label', 'actor_name')])\\\n",
    "    .expand('movie', [('rdfs:label', 'movie_name'), ('dcterms:subject', 'subject'),\n",
    "                     ('dbpprop:country', 'movie_country')])\\\n",
    "    .cache()\n",
    "\n",
    "american_actors = dataset.filter({'actor_country': ['regex(str(?actor_country), \"USA\")']})\n",
    "\n",
    "prolific_actors = dataset.group_by(['actor'])\\\n",
    "    .count('movie', 'movie_count', unique=True).filter({'movie_count': ['>= 20', '<=30']})\n",
    "\n",
    "films = american_actors.join(prolific_actors, join_col_name1='actor', join_type=JoinType.OuterJoin)\\\n",
    "    .join(dataset, join_col_name1='actor')\\\n",
    "    .select_cols([\"movie_name\", \"actor_name\", \"subject\"])"
   ]
  },
  {
   "cell_type": "code",
   "execution_count": 3,
   "metadata": {
    "scrolled": false
   },
   "outputs": [
    {
     "name": "stdout",
     "output_type": "stream",
     "text": [
      "PREFIX dcterms: <http://purl.org/dc/terms/>\n",
      "PREFIX rdfs: <http://www.w3.org/2000/01/rdf-schema#>\n",
      "PREFIX dbpprop: <http://dbpedia.org/property/>\n",
      "PREFIX dbpr: <http://dbpedia.org/resource/>\n",
      "SELECT ?movie_name ?actor_name ?subject \n",
      "FROM <http://dbpedia.org>\n",
      "WHERE {\n",
      "\t?movie dbpprop:starring ?actor .\n",
      "\t?actor dbpprop:birthPlace ?actor_country .\n",
      "\t?actor rdfs:label ?actor_name .\n",
      "\t?movie rdfs:label ?movie_name .\n",
      "\t?movie dcterms:subject ?subject .\n",
      "\t?movie dbpprop:country ?movie_country .\n",
      "\t\t{\n",
      "\t\tSELECT * \n",
      "\t\tWHERE {\n",
      "\t\t\t?movie dbpprop:starring ?actor .\n",
      "\t\t\t?actor dbpprop:birthPlace ?actor_country .\n",
      "\t\t\t?actor rdfs:label ?actor_name .\n",
      "\t\t\t?movie rdfs:label ?movie_name .\n",
      "\t\t\t?movie dcterms:subject ?subject .\n",
      "\t\t\t?movie dbpprop:country ?movie_country .\n",
      "\t\t\tFILTER ( regex(str(?actor_country), \"USA\") ) \n",
      "\t\t\t}\n",
      "\t\t}\n",
      "\t\tUNION\n",
      "\t\t{\n",
      "\t\tSELECT ?actor  (COUNT(DISTINCT ?movie) AS ?movie_count) \n",
      "\t\tWHERE {\n",
      "\t\t\t?movie dbpprop:starring ?actor .\n",
      "\t\t\t?actor dbpprop:birthPlace ?actor_country .\n",
      "\t\t\t?actor rdfs:label ?actor_name .\n",
      "\t\t\t?movie rdfs:label ?movie_name .\n",
      "\t\t\t?movie dcterms:subject ?subject .\n",
      "\t\t\t?movie dbpprop:country ?movie_country .\n",
      "\t\t\t} GROUP BY ?actor \n",
      "\t\tHAVING ( ( COUNT(DISTINCT ?movie) >= 20 )  && ( COUNT(DISTINCT ?movie) <=30 ) )\n",
      "\t\t}\n",
      "\t}\n",
      "\n"
     ]
    }
   ],
   "source": [
    "sparql_query = films.to_sparql()\n",
    "\n",
    "print(sparql_query)"
   ]
  },
  {
   "cell_type": "code",
   "execution_count": null,
   "metadata": {},
   "outputs": [],
   "source": [
    "endpoint = 'http://10.161.202.101:8890/sparql/'\n",
    "output_format = HttpClientDataFormat.PANDAS_DF\n",
    "\n",
    "client = HttpClient(endpoint_url=endpoint, return_format=output_format)\n",
    "\n",
    "df = films.execute(client, return_format=output_format)\n"
   ]
  },
  {
   "cell_type": "code",
   "execution_count": null,
   "metadata": {},
   "outputs": [],
   "source": [
    "print(df.head())"
   ]
  },
  {
   "cell_type": "code",
   "execution_count": null,
   "metadata": {
    "collapsed": true
   },
   "outputs": [],
   "source": []
  }
 ],
 "metadata": {
  "kernelspec": {
   "display_name": "rdfframes",
   "language": "python",
   "name": "rdfframes"
  },
  "language_info": {
   "codemirror_mode": {
    "name": "ipython",
    "version": 3
   },
   "file_extension": ".py",
   "mimetype": "text/x-python",
   "name": "python",
   "nbconvert_exporter": "python",
   "pygments_lexer": "ipython3",
   "version": "3.6.8"
  }
 },
 "nbformat": 4,
 "nbformat_minor": 2
}
