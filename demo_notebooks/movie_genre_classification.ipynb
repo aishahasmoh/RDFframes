{
 "cells": [
  {
   "cell_type": "code",
   "execution_count": 1,
   "metadata": {
    "collapsed": true
   },
   "outputs": [],
   "source": [
    "from rdfframes.knowledge_graph import KnowledgeGraph\n",
    "from rdfframes.dataset.rdfpredicate import RDFPredicate\n",
    "from rdfframes.utils.constants import JoinType\n",
    "from rdfframes.client.http_client import HttpClientDataFormat, HttpClient"
   ]
  },
  {
   "cell_type": "code",
   "execution_count": 3,
   "metadata": {},
   "outputs": [
    {
     "name": "stdout",
     "output_type": "stream",
     "text": [
      "PREFIX dcterms: <http://purl.org/dc/terms/>\n",
      "PREFIX rdfs: <http://www.w3.org/2000/01/rdf-schema#>\n",
      "PREFIX dbpprop: <http://dbpedia.org/property/>\n",
      "PREFIX dbpr: <http://dbpedia.org/resource/>\n",
      "SELECT ?film_name ?actor_name ?subject \n",
      "FROM <http://dbpedia.org>\n",
      "WHERE {\n",
      "\t?film dbpprop:starring ?actor .\n",
      "\t?actor dbpprop:birthPlace ?actor_country .\n",
      "\t?actor rdfs:label ?actor_name .\n",
      "\t?film rdfs:label ?film_name .\n",
      "\t?film dcterms:subject ?subject .\n",
      "\t?film dbpprop:country ?film_country .\n",
      "\n",
      "\n",
      "\t\t{\n",
      "\t\tSELECT * \n",
      "\t\tWHERE {\n",
      "\t\t\t?film dbpprop:starring ?actor .\n",
      "\t\t\t?actor dbpprop:birthPlace ?actor_country .\n",
      "\t\t\t?actor rdfs:label ?actor_name .\n",
      "\t\t\t?film rdfs:label ?film_name .\n",
      "\t\t\t?film dcterms:subject ?subject .\n",
      "\t\t\t?film dbpprop:country ?film_country .\n",
      "\t\t\n",
      "\t\t\n",
      "\t\t\tFILTER (regex(str(?actor_country), \"USA\") ) \n",
      "\t\t}\n",
      "\t\t\n",
      "\t\t}\n",
      "\t\tUNION\n",
      "\t\t{\n",
      "\t\tSELECT ?actor  (COUNT(DISTINCT ?film) AS ?film_count) \n",
      "\t\tWHERE {\n",
      "\t\t\t?film dbpprop:starring ?actor .\n",
      "\t\t\t?actor dbpprop:birthPlace ?actor_country .\n",
      "\t\t\t?actor rdfs:label ?actor_name .\n",
      "\t\t\t?film rdfs:label ?film_name .\n",
      "\t\t\t?film dcterms:subject ?subject .\n",
      "\t\t\t?film dbpprop:country ?film_country .\n",
      "\t\t} GROUP BY ?actor HAVING(( COUNT(DISTINCT ?film) >= 20 )  && ( COUNT(DISTINCT ?film) <=30 ) )\n",
      "\t\t\n",
      "\t\t}\n",
      "}\n",
      "\n"
     ]
    }
   ],
   "source": [
    "graph = KnowledgeGraph(graph_uri='http://dbpedia.org',\n",
    "                       prefixes={'dcterms': 'http://purl.org/dc/terms/',\n",
    "                                 'rdfs': 'http://www.w3.org/2000/01/rdf-schema#',\n",
    "                                 'dbpprop': 'http://dbpedia.org/property/',\n",
    "                                 'dbpr': 'http://dbpedia.org/resource/'})\n",
    "\n",
    "dataset = graph.feature_domain_range('dbpprop:starring', domain_col_name='film', range_col_name='actor')\\\n",
    "    .expand('actor', [RDFPredicate('dbpprop:birthPlace', 'actor_country'), RDFPredicate('rdfs:label', 'actor_name')])\\\n",
    "    .expand('film', [RDFPredicate('rdfs:label', 'film_name'), RDFPredicate('dcterms:subject', 'subject'),\n",
    "                     RDFPredicate('dbpprop:country', 'film_country')])\\\n",
    "    .cache()\n",
    "# 26928 Rows. -- 4273 msec.\n",
    "american_actors = dataset.filter({'actor_country': ['regex(str(?actor_country), \"USA\")']})\n",
    "\n",
    "# 1606 Rows. -- 7659 msec.\n",
    "prolific_actors = dataset.group_by(['actor'])\\\n",
    "    .count('film', 'film_count', unique=True).filter({'film_count': ['>= 20', '<=30']})\n",
    "\n",
    "#663,769 Rows. -- 76704 msec.\n",
    "films = american_actors.join(prolific_actors, join_col_name1='actor', join_type=JoinType.OuterJoin)\\\n",
    "    .join(dataset, join_col_name1='actor')\\\n",
    "    .select_cols([\"film_name\", \"actor_name\", \"subject\"])\n",
    "\n",
    "sparql_query = films.to_sparql()\n",
    "\n",
    "print(sparql_query)\n",
    "\n",
    "endpoint = 'http://10.161.202.101:8890/sparql/'\n",
    "output_format = HttpClientDataFormat.PANDAS_DF\n",
    "\n",
    "client = HttpClient(endpoint_url=endpoint, return_format=output_format)"
   ]
  },
  {
   "cell_type": "code",
   "execution_count": null,
   "metadata": {},
   "outputs": [
    {
     "name": "stdout",
     "output_type": "stream",
     "text": [
      "time of the query preparation 0.0011327266693115234\n"
     ]
    }
   ],
   "source": [
    "# [663769 rows x 8 columns]\n",
    "df = films.execute(client, return_format=output_format)\n",
    "print(df)"
   ]
  },
  {
   "cell_type": "code",
   "execution_count": null,
   "metadata": {
    "collapsed": true
   },
   "outputs": [],
   "source": []
  }
 ],
 "metadata": {
  "kernelspec": {
   "display_name": "rdfframes",
   "language": "python",
   "name": "rdfframes"
  },
  "language_info": {
   "codemirror_mode": {
    "name": "ipython",
    "version": 3
   },
   "file_extension": ".py",
   "mimetype": "text/x-python",
   "name": "python",
   "nbconvert_exporter": "python",
   "pygments_lexer": "ipython3",
   "version": "3.6.8"
  }
 },
 "nbformat": 4,
 "nbformat_minor": 2
}
