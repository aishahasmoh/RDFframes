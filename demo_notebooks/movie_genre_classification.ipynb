{
 "cells": [
  {
   "cell_type": "code",
   "execution_count": 1,
   "metadata": {
    "collapsed": false,
    "deletable": true,
    "editable": true
   },
   "outputs": [],
   "source": [
    "import time\n",
    "from rdfframes.knowledge_graph import KnowledgeGraph\n",
    "from rdfframes.utils.constants import JoinType\n",
    "from rdfframes.client.http_client import HttpClientDataFormat, HttpClient"
   ]
  },
  {
   "cell_type": "code",
   "execution_count": 2,
   "metadata": {
    "collapsed": true,
    "deletable": true,
    "editable": true
   },
   "outputs": [],
   "source": [
    "graph = KnowledgeGraph(graph_name='dbpedia')\n",
    "\n",
    "endpoint = 'http://10.161.202.101:8890/sparql/'\n",
    "output_format = HttpClientDataFormat.PANDAS_DF\n",
    "\n",
    "client = HttpClient(endpoint_url=endpoint, return_format=output_format)"
   ]
  },
  {
   "cell_type": "code",
   "execution_count": 3,
   "metadata": {
    "collapsed": true,
    "deletable": true,
    "editable": true
   },
   "outputs": [
    {
     "name": "stderr",
     "output_type": "stream",
     "text": [
      "/Users/aisha/Desktop/qcri_research/rdfframes_project/RDFframes/rdfframes/dataset/dataset.py:124: UserWarning: columns ['movie', 'actor_country', 'actor_name', 'movie_name', 'subject', 'movie_country', 'genre'] are common between dataset 1 and 2. All these columns will be used as join columns\n  \"join columns\".format(warn_cols))\n"
     ]
    }
   ],
   "source": [
    "dataset = graph.feature_domain_range('dbpprop:starring', domain_col_name='movie', range_col_name='actor')\\\n",
    "    \n",
    "dataset = dataset.expand('actor', [('dbpprop:birthPlace', 'actor_country'), ('rdfs:label', 'actor_name')])\\\n",
    "    .expand('movie', [('rdfs:label', 'movie_name'), ('dcterms:subject', 'subject'),\n",
    "                     ('dbpprop:country', 'movie_country'), ('dbpo:genre', 'genre', True)]).cache()\n",
    "\n",
    "american_actors = dataset.filter({'actor_country': ['regex(str(?actor_country), \"USA\")']})\n",
    "\n",
    "prolific_actors = dataset.group_by(['actor'])\\\n",
    "    .count('movie', 'movie_count', unique=True).filter({'movie_count': ['>= 20']})\n",
    "\n",
    "movies = american_actors.join(prolific_actors, join_col_name1='actor', join_type=JoinType.OuterJoin)\\\n",
    "    .join(dataset, join_col_name1='actor')\\\n",
    "    .select_cols([\"movie_name\", \"actor_name\", \"subject\", \"genre\"])"
   ]
  },
  {
   "cell_type": "code",
   "execution_count": 4,
   "metadata": {
    "collapsed": false,
    "deletable": true,
    "editable": true
   },
   "outputs": [
    {
     "name": "stdout",
     "output_type": "stream",
     "text": [
      "time of the query preparation 0.002777576446533203\n"
     ]
    }
   ],
   "source": [
    "df = movies.execute(client, return_format=output_format)"
   ]
  },
  {
   "cell_type": "code",
   "execution_count": 5,
   "metadata": {
    "collapsed": false,
    "deletable": true,
    "editable": true
   },
   "outputs": [
    {
     "name": "stdout",
     "output_type": "stream",
     "text": [
      "                   movie_name  actor_name  \\\n",
      "0  Hell on Wheels (TV series)  Tim Guinee   \n",
      "1  Hell on Wheels (TV series)  Tim Guinee   \n",
      "2  Hell on Wheels (TV series)  Tim Guinee   \n",
      "3  Hell on Wheels (TV series)  Tim Guinee   \n",
      "4  Hell on Wheels (TV series)  Tim Guinee   \n",
      "\n",
      "                                             subject  \\\n",
      "0  http://dbpedia.org/resource/Category:Serial_dr...   \n",
      "1  http://dbpedia.org/resource/Category:American_...   \n",
      "2  http://dbpedia.org/resource/Category:Televisio...   \n",
      "3  http://dbpedia.org/resource/Category:2011_Amer...   \n",
      "4  http://dbpedia.org/resource/Category:Televisio...   \n",
      "\n",
      "                                               genre  \n",
      "0  http://dbpedia.org/resource/Historical_period_...  \n",
      "1  http://dbpedia.org/resource/Historical_period_...  \n",
      "2  http://dbpedia.org/resource/Historical_period_...  \n",
      "3  http://dbpedia.org/resource/Historical_period_...  \n",
      "4        http://dbpedia.org/resource/Western_(genre)  \n"
     ]
    }
   ],
   "source": [
    "print(df.head())"
   ]
  },
  {
   "cell_type": "code",
   "execution_count": 6,
   "metadata": {
    "collapsed": false,
    "deletable": true,
    "editable": true,
    "scrolled": false
   },
   "outputs": [
    {
     "name": "stdout",
     "output_type": "stream",
     "text": [
      "PREFIX dcterms: <http://purl.org/dc/terms/>\n",
      "PREFIX rdfs: <http://www.w3.org/2000/01/rdf-schema#>\n",
      "PREFIX dbpprop: <http://dbpedia.org/property/>\n",
      "PREFIX dbpr: <http://dbpedia.org/resource/>\n",
      "PREFIX dbpo: <http://dbpedia.org/ontology/>\n",
      "SELECT DISTINCT ?movie_name ?actor_name ?subject ?genre \n",
      "FROM <http://dbpedia.org>\n",
      "WHERE {\n",
      "\t?movie dbpprop:starring ?actor .\n",
      "\t?actor dbpprop:birthPlace ?actor_country .\n",
      "\t?actor rdfs:label ?actor_name .\n",
      "\t?movie rdfs:label ?movie_name .\n",
      "\t?movie dcterms:subject ?subject .\n",
      "\t?movie dbpprop:country ?movie_country .\n",
      "\tOPTIONAL {\n",
      "\t\t?movie dbpo:genre ?genre .\n",
      "\t\t\t}\n",
      "\t{\n",
      "\tSELECT * \n",
      "\tWHERE {\n",
      "\t\t?movie dbpprop:starring ?actor .\n",
      "\t\t?actor dbpprop:birthPlace ?actor_country .\n",
      "\t\t?actor rdfs:label ?actor_name .\n",
      "\t\t?movie rdfs:label ?movie_name .\n",
      "\t\t?movie dcterms:subject ?subject .\n",
      "\t\t?movie dbpprop:country ?movie_country .\n",
      "\t\tFILTER ( regex(str(?actor_country), \"USA\") ) \n",
      "\t\n",
      "\t\tOPTIONAL {\n",
      "\t\t\t?movie dbpo:genre ?genre .\n",
      "\t\t\t\t}\n",
      "\t\t}\n",
      "\t}\n",
      "\tUNION\n",
      "\t{\n",
      "\tSELECT DISTINCT ?actor  (COUNT(DISTINCT ?movie) AS ?movie_count) \n",
      "\tWHERE {\n",
      "\t\t?movie dbpprop:starring ?actor .\n",
      "\t\t?actor dbpprop:birthPlace ?actor_country .\n",
      "\t\t?actor rdfs:label ?actor_name .\n",
      "\t\t?movie rdfs:label ?movie_name .\n",
      "\t\t?movie dcterms:subject ?subject .\n",
      "\t\t?movie dbpprop:country ?movie_country .\n",
      "\t\tOPTIONAL {\n",
      "\t\t\t?movie dbpo:genre ?genre .\n",
      "\t\t\t\t}\n",
      "\t\t} GROUP BY ?actor \n",
      "\tHAVING ( ( COUNT(DISTINCT ?movie) >= 20 ) )\n",
      "\t}\n",
      "\t}\n",
      "\n"
     ]
    }
   ],
   "source": [
    "sparql_query = movies.to_sparql()\n",
    "\n",
    "print(sparql_query)"
   ]
  },
  {
   "cell_type": "code",
   "execution_count": null,
   "metadata": {
    "collapsed": true,
    "deletable": true,
    "editable": true
   },
   "outputs": [],
   "source": []
  }
 ],
 "metadata": {
  "kernelspec": {
   "display_name": "Python 2",
   "language": "python",
   "name": "python2"
  },
  "language_info": {
   "codemirror_mode": {
    "name": "ipython",
    "version": 2
   },
   "file_extension": ".py",
   "mimetype": "text/x-python",
   "name": "python",
   "nbconvert_exporter": "python",
   "pygments_lexer": "ipython2",
   "version": "2.7.6"
  }
 },
 "nbformat": 4,
 "nbformat_minor": 2
}
