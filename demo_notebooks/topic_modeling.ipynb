{
 "cells": [
  {
   "cell_type": "code",
   "execution_count": 1,
   "metadata": {
    "collapsed": true
   },
   "outputs": [],
   "source": [
    "import pandas as pd\n",
    "from rdfframes.client.http_client import HttpClientDataFormat, HttpClient\n",
    "from rdfframes.knowledge_graph import KnowledgeGraph\n",
    "from rdfframes.dataset.rdfpredicate import RDFPredicate"
   ]
  },
  {
   "cell_type": "code",
   "execution_count": 2,
   "metadata": {
    "collapsed": true
   },
   "outputs": [],
   "source": [
    "\n",
    "graph = KnowledgeGraph(\n",
    "    graph_uri='http://dblp.l3s.de',\n",
    "    prefixes={\n",
    "        \"xsd\": \"http://www.w3.org/2001/XMLSchema#\",\n",
    "        \"swrc\": \"http://swrc.ontoware.org/ontology#\",\n",
    "        \"rdf\": \"http://www.w3.org/1999/02/22-rdf-syntax-ns#\",\n",
    "        \"dc\": \"http://purl.org/dc/elements/1.1/\",\n",
    "        \"dcterm\": \"http://purl.org/dc/terms/\",\n",
    "        \"dblprc\": \"http://dblp.l3s.de/d2r/resource/conferences/\"\n",
    "    })\n",
    "endpoint = 'http://10.161.202.101:8890/sparql/'\n",
    "port = 8890\n",
    "output_format = HttpClientDataFormat.PANDAS_DF\n",
    "client = HttpClient(endpoint_url=endpoint,\n",
    "                    port=port,\n",
    "                    return_format=output_format)\n",
    "\n",
    "dataset = graph.entities('swrc:InProceedings', entities_col_name='paper')\\\n",
    "    .expand(src_col_name='paper', predicate_list=[\n",
    "        RDFPredicate('dc:creator', 'author'), RDFPredicate('dcterm:issued', 'date'),\n",
    "        RDFPredicate('swrc:series', 'conference'),\n",
    "        RDFPredicate('dc:title', 'title')])\n",
    "dataset = dataset.cache()\n",
    "    \n",
    "authors = dataset.filter({'date':['>= 2000'], 'conference': ['IN (dblprc:vldb, dblprc:sigmod)']})\\\n",
    "    .group_by(['author'])\\\n",
    "    .count('paper', 'papers_count')\\\n",
    "    .filter({'papers_count':['>= 20']})\n",
    "\n",
    "\n",
    "titles = dataset.join(authors, 'author').filter({'date': ['>= 2005']}).select_cols(['title'])\n",
    "\n",
    "\n"
   ]
  },
  {
   "cell_type": "code",
   "execution_count": 3,
   "metadata": {},
   "outputs": [
    {
     "name": "stdout",
     "output_type": "stream",
     "text": [
      "Sparql Query = \n",
      "PREFIX xsd: <http://www.w3.org/2001/XMLSchema#>\n",
      "PREFIX swrc: <http://swrc.ontoware.org/ontology#>\n",
      "PREFIX rdf: <http://www.w3.org/1999/02/22-rdf-syntax-ns#>\n",
      "PREFIX dc: <http://purl.org/dc/elements/1.1/>\n",
      "PREFIX dcterm: <http://purl.org/dc/terms/>\n",
      "PREFIX dblprc: <http://dblp.l3s.de/d2r/resource/conferences/>\n",
      "SELECT ?title \n",
      "FROM <http://dblp.l3s.de>\n",
      "WHERE {\n",
      "\t?paper rdf:type swrc:InProceedings .\n",
      "\t?paper dc:creator ?author .\n",
      "\t?paper dcterm:issued ?date .\n",
      "\t?paper swrc:series ?conference .\n",
      "\t?paper dc:title ?title .\n",
      "\n",
      "\n",
      "\tFILTER ( (year(xsd:dateTime(?date)) >= 2005 ) ) \n",
      "\n",
      "\n",
      "\t\t{\n",
      "\t\tSELECT ?author  (COUNT( ?paper) AS ?papers_count) \n",
      "\t\tWHERE {\n",
      "\t\t\t?paper rdf:type swrc:InProceedings .\n",
      "\t\t\t?paper dc:creator ?author .\n",
      "\t\t\t?paper dcterm:issued ?date .\n",
      "\t\t\t?paper swrc:series ?conference .\n",
      "\t\t\t?paper dc:title ?title .\n",
      "\t\t\n",
      "\t\t\n",
      "\t\t\tFILTER ( (year(xsd:dateTime(?date)) >= 2000 ) &&  (?conference IN (dblprc:vldb, dblprc:sigmod) ) ) \n",
      "\t\t} GROUP BY ?author HAVING(( COUNT( ?paper) >= 20 ) )\n",
      "\t\t\n",
      "\t\t}\n",
      "}\n",
      "\n"
     ]
    }
   ],
   "source": [
    "print(\"Sparql Query = \\n{}\".format(titles.to_sparql()))\n",
    "\n"
   ]
  },
  {
   "cell_type": "code",
   "execution_count": 4,
   "metadata": {},
   "outputs": [
    {
     "name": "stdout",
     "output_type": "stream",
     "text": [
      "time of the query preparation 0.0015397071838378906\n",
      "Index(['title'], dtype='object')\n",
      "(4684, 1)\n"
     ]
    }
   ],
   "source": [
    "df = titles.execute(client, return_format=output_format)\n",
    "print(df.columns)\n",
    "print(df.shape)"
   ]
  },
  {
   "cell_type": "code",
   "execution_count": 5,
   "metadata": {},
   "outputs": [
    {
     "name": "stdout",
     "output_type": "stream",
     "text": [
      "                                               title\n",
      "0  A framework for using reference ontologies as ...\n",
      "1  Regular Paths in SparQL: Querying the NCI Thes...\n",
      "2  Automatic XQuery Generation and Generalized Vi...\n",
      "3  Generating Application Ontologies from Referen...\n",
      "4  Laziness is a Virtue: Motion Stitching Using E...\n",
      "5  FMDistance: A Fast and Effective Distance Func...\n",
      "6  Scalable modeling of real graphs using Kroneck...\n",
      "7  Probabilistic Tensor Analysis with Akaike and ...\n",
      "8  SLL: Running My Web Services on Your WS Platfo...\n",
      "9  Opinion Fraud Detection in Online Reviews by N...\n"
     ]
    }
   ],
   "source": [
    "print(df.head(10))"
   ]
  },
  {
   "cell_type": "code",
   "execution_count": 6,
   "metadata": {},
   "outputs": [
    {
     "name": "stdout",
     "output_type": "stream",
     "text": [
      "                                               title  \\\n",
      "0  A framework for using reference ontologies as ...   \n",
      "1  Regular Paths in SparQL: Querying the NCI Thes...   \n",
      "2  Automatic XQuery Generation and Generalized Vi...   \n",
      "3  Generating Application Ontologies from Referen...   \n",
      "4  Laziness is a Virtue: Motion Stitching Using E...   \n",
      "\n",
      "                                         clean_title  \n",
      "0  framework using reference ontologies foundatio...  \n",
      "1            regular paths sparql querying thesaurus  \n",
      "2  automatic xquery generation generalized visual...  \n",
      "3  generating application ontologies from referen...  \n",
      "4  laziness virtue motion stitching using effort ...  \n"
     ]
    }
   ],
   "source": [
    "# removing everything except alphabets`\n",
    "df['clean_title'] = df['title'].str.replace(\"[^a-zA-Z#]\", \" \")\n",
    "# removing short words\n",
    "df['clean_title'] = df['clean_title'].apply(lambda x: ' '.join([w for w in str(x).split() if len(w)>3])) \n",
    "# make all text lowercase\n",
    "df['clean_title'] = df['clean_title'].apply(lambda x: x.lower())\n",
    "print(df.head())"
   ]
  },
  {
   "cell_type": "code",
   "execution_count": 7,
   "metadata": {},
   "outputs": [
    {
     "name": "stdout",
     "output_type": "stream",
     "text": [
      "0    [framework, using, reference, ontologies, foun...\n",
      "1        [regular, paths, sparql, querying, thesaurus]\n",
      "2    [automatic, xquery, generation, generalized, v...\n",
      "3    [generating, application, ontologies, from, re...\n",
      "4    [laziness, virtue, motion, stitching, using, e...\n",
      "Name: clean_title, dtype: object\n",
      "['i', 'me', 'my', 'myself', 'we', 'our', 'ours', 'ourselves', 'you', \"you're\", \"you've\", \"you'll\", \"you'd\", 'your', 'yours', 'yourself', 'yourselves', 'he', 'him', 'his', 'himself', 'she', \"she's\", 'her', 'hers', 'herself', 'it', \"it's\", 'its', 'itself', 'they', 'them', 'their', 'theirs', 'themselves', 'what', 'which', 'who', 'whom', 'this', 'that', \"that'll\", 'these', 'those', 'am', 'is', 'are', 'was', 'were', 'be', 'been', 'being', 'have', 'has', 'had', 'having', 'do', 'does', 'did', 'doing', 'a', 'an', 'the', 'and', 'but', 'if', 'or', 'because', 'as', 'until', 'while', 'of', 'at', 'by', 'for', 'with', 'about', 'against', 'between', 'into', 'through', 'during', 'before', 'after', 'above', 'below', 'to', 'from', 'up', 'down', 'in', 'out', 'on', 'off', 'over', 'under', 'again', 'further', 'then', 'once', 'here', 'there', 'when', 'where', 'why', 'how', 'all', 'any', 'both', 'each', 'few', 'more', 'most', 'other', 'some', 'such', 'no', 'nor', 'not', 'only', 'own', 'same', 'so', 'than', 'too', 'very', 's', 't', 'can', 'will', 'just', 'don', \"don't\", 'should', \"should've\", 'now', 'd', 'll', 'm', 'o', 're', 've', 'y', 'ain', 'aren', \"aren't\", 'couldn', \"couldn't\", 'didn', \"didn't\", 'doesn', \"doesn't\", 'hadn', \"hadn't\", 'hasn', \"hasn't\", 'haven', \"haven't\", 'isn', \"isn't\", 'ma', 'mightn', \"mightn't\", 'mustn', \"mustn't\", 'needn', \"needn't\", 'shan', \"shan't\", 'shouldn', \"shouldn't\", 'wasn', \"wasn't\", 'weren', \"weren't\", 'won', \"won't\", 'wouldn', \"wouldn't\", 'based']\n"
     ]
    },
    {
     "name": "stderr",
     "output_type": "stream",
     "text": [
      "[nltk_data] Downloading package stopwords to\n",
      "[nltk_data]     /home/amohamed/nltk_data...\n",
      "[nltk_data]   Package stopwords is already up-to-date!\n"
     ]
    }
   ],
   "source": [
    "import nltk\n",
    "nltk.download('stopwords')\n",
    "\n",
    "# Using the stopwords.\n",
    "from nltk.corpus import stopwords\n",
    "# Initialize the stopwords\n",
    "stop_words = stopwords.words('english')\n",
    "stop_words = [x.strip() for x in stop_words] + ['based']\n",
    "\n",
    "# tokenization\n",
    "tokenized_doc = df['clean_title'].apply(lambda x: x.split())\n",
    "print(tokenized_doc.head())\n",
    "print(stop_words)"
   ]
  },
  {
   "cell_type": "code",
   "execution_count": 8,
   "metadata": {},
   "outputs": [
    {
     "name": "stdout",
     "output_type": "stream",
     "text": [
      "                                               title  \\\n",
      "0  A framework for using reference ontologies as ...   \n",
      "1  Regular Paths in SparQL: Querying the NCI Thes...   \n",
      "2  Automatic XQuery Generation and Generalized Vi...   \n",
      "3  Generating Application Ontologies from Referen...   \n",
      "4  Laziness is a Virtue: Motion Stitching Using E...   \n",
      "\n",
      "                                         clean_title  \n",
      "0  framework using reference ontologies foundatio...  \n",
      "1            regular paths sparql querying thesaurus  \n",
      "2  automatic xquery generation generalized visual...  \n",
      "3  generating application ontologies reference on...  \n",
      "4  laziness virtue motion stitching using effort ...  \n"
     ]
    }
   ],
   "source": [
    "# remove stop-words\n",
    "tokenized_doc = tokenized_doc.apply(lambda x: [item for item in x if item not in stop_words])\n",
    "\n",
    "# de-tokenization\n",
    "detokenized_doc = []\n",
    "for i in range(len(df)):\n",
    "    t = ' '.join(tokenized_doc[i])\n",
    "    detokenized_doc.append(t)\n",
    "\n",
    "df['clean_title'] = detokenized_doc\n",
    "\n",
    "print(df.head())"
   ]
  },
  {
   "cell_type": "code",
   "execution_count": 9,
   "metadata": {},
   "outputs": [
    {
     "name": "stdout",
     "output_type": "stream",
     "text": [
      "(4684, 1000)\n"
     ]
    }
   ],
   "source": [
    "from sklearn.feature_extraction.text import TfidfVectorizer\n",
    "vectorizer = TfidfVectorizer(stop_words='english', \n",
    "max_features= 1000, # keep top 1000 terms \n",
    "max_df = 0.5, \n",
    "smooth_idf=True)\n",
    "\n",
    "X = vectorizer.fit_transform(df['clean_title'])\n",
    "\n",
    "print(X.shape) # check shape of the document-term matrix"
   ]
  },
  {
   "cell_type": "code",
   "execution_count": 10,
   "metadata": {},
   "outputs": [
    {
     "data": {
      "text/plain": [
       "20"
      ]
     },
     "execution_count": 10,
     "metadata": {},
     "output_type": "execute_result"
    }
   ],
   "source": [
    "from sklearn.decomposition import TruncatedSVD\n",
    "# SVD represent documents and terms in vectors \n",
    "svd_model = TruncatedSVD(n_components=20, algorithm='randomized', n_iter=100, random_state=122)\n",
    "\n",
    "svd_model.fit(X)\n",
    "\n",
    "len(svd_model.components_)"
   ]
  },
  {
   "cell_type": "code",
   "execution_count": 11,
   "metadata": {},
   "outputs": [
    {
     "name": "stdout",
     "output_type": "stream",
     "text": [
      "Topic 0: data mining query processing management streams networks \n",
      "Topic 1: data management streams quality integration cleaning structured \n",
      "Topic 2: query processing queries stream continuous optimization distributed \n",
      "Topic 3: mining search graphs large graph databases scale \n",
      "Topic 4: search efficient databases keyword similarity database queries \n",
      "Topic 5: queries database management systems using large answering \n",
      "Topic 6: database management systems information query search applications \n",
      "Topic 7: large graphs scale search efficient processing social \n",
      "Topic 8: databases large probabilistic graphs information scale uncertain \n",
      "Topic 9: graph information detection processing approach extraction using \n",
      "Topic 10: information efficient extraction mining queries management graphs \n",
      "Topic 11: efficient time databases computation distributed series detection \n",
      "Topic 12: management processing distributed stream mining queries systems \n",
      "Topic 13: time series databases real distributed detection systems \n",
      "Topic 14: streams privacy detection distributed database preserving analysis \n",
      "Topic 15: privacy preserving using social preservation publishing time \n",
      "Topic 16: management detection query streams using systems distributed \n",
      "Topic 17: using social processing stream detection event databases \n",
      "Topic 18: multi using dimensional peer high systems clustering \n",
      "Topic 19: using networks distributed streams sensor databases privacy \n"
     ]
    }
   ],
   "source": [
    "terms = vectorizer.get_feature_names()\n",
    "\n",
    "for i, comp in enumerate(svd_model.components_):\n",
    "    terms_comp = zip(terms, comp)\n",
    "    sorted_terms = sorted(terms_comp, key= lambda x:x[1], reverse=True)[:7]\n",
    "    string = \"Topic \"+str(i)+\": \"\n",
    "    for t in sorted_terms:\n",
    "        string += t[0] + \" \"\n",
    "    print(string)"
   ]
  }
 ],
 "metadata": {
  "kernelspec": {
   "display_name": "rdfframes",
   "language": "python",
   "name": "rdfframes"
  },
  "language_info": {
   "codemirror_mode": {
    "name": "ipython",
    "version": 3
   },
   "file_extension": ".py",
   "mimetype": "text/x-python",
   "name": "python",
   "nbconvert_exporter": "python",
   "pygments_lexer": "ipython3",
   "version": "3.6.8"
  }
 },
 "nbformat": 4,
 "nbformat_minor": 1
}
